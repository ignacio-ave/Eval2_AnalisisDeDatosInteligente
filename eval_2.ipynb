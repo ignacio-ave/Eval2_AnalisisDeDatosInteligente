{
 "cells": [
  {
   "cell_type": "markdown",
   "id": "03b97f52",
   "metadata": {},
   "source": [
    "# utility.py"
   ]
  },
  {
   "cell_type": "code",
   "execution_count": 1,
   "id": "f9143635",
   "metadata": {},
   "outputs": [],
   "source": [
    "\n",
    "# My Utility : auxiliars functions\n",
    "\n",
    "import pandas as pd\n",
    "import numpy  as np\n",
    "\n",
    "\n",
    "# CResidual-Dispersion Entropy\n",
    "def entropy_dispersion(x,d,tau,c):\n",
    "    pass\n",
    "    #...\n",
    "    #return(entr)\n",
    "#\n",
    "\n",
    "# Permutation Entropy\n",
    "def entropy_permuta(x,m,tau):\n",
    "    pass\n",
    "    #...\n",
    "    #return(entr)\n",
    "#\n",
    "\n",
    "\n"
   ]
  },
  {
   "cell_type": "markdown",
   "id": "a911d1af",
   "metadata": {},
   "source": [
    "# ppr.py\n"
   ]
  },
  {
   "cell_type": "code",
   "execution_count": 2,
   "id": "e8be220e",
   "metadata": {},
   "outputs": [],
   "source": [
    "#----------------------------------------------\n",
    "# Create Features by use Multi-scales Entropy\n",
    "#----------------------------------------------\n",
    "\n",
    "import pandas  as pd\n",
    "import numpy   as np\n",
    "from utility   import *\n",
    "\n",
    "\n",
    "    \n",
    "# Obtain Features by use Entropy    \n",
    "def gets_features():\n",
    "    pass\n",
    "    #return(F)    \n",
    "# Beginning ...\n",
    "\n",
    "\n",
    "def main():\n",
    "    pass\n",
    "    \n",
    "       \n",
    "if __name__ == '__main__':   \n",
    "\t main()\n",
    "\n"
   ]
  },
  {
   "cell_type": "markdown",
   "id": "e9aaed28",
   "metadata": {},
   "source": [
    "# trn.py"
   ]
  },
  {
   "cell_type": "code",
   "execution_count": null,
   "id": "3b0a84bc",
   "metadata": {},
   "outputs": [],
   "source": [
    "# Softmac Regression's Training :\n",
    "\n",
    "import numpy  as np\n",
    "from utility  import *\n",
    "\n",
    "\n",
    "#\n",
    "#Training by use mGD\n",
    "def train():    \n",
    "    \n",
    "    pass\n",
    "    #....\n",
    "    #return()\n",
    "\n",
    "# Beginning ...\n",
    "def main():    \n",
    "    pass\n",
    "       \n",
    "if __name__ == '__main__':   \n",
    "\t main()\n",
    "\n"
   ]
  },
  {
   "cell_type": "markdown",
   "id": "00392ca9",
   "metadata": {},
   "source": [
    "# test.py"
   ]
  },
  {
   "cell_type": "code",
   "execution_count": null,
   "id": "d998bc6d",
   "metadata": {},
   "outputs": [],
   "source": [
    "# Testing for Softmax Regresion\n",
    "import numpy as np\n",
    "\n",
    "# Beginning ...\n",
    "def main():\n",
    "    pass\t\t\t\n",
    "\n",
    "if __name__ == '__main__':   \n",
    "\t main()\n",
    "\n"
   ]
  }
 ],
 "metadata": {
  "kernelspec": {
   "display_name": "Python 3",
   "language": "python",
   "name": "python3"
  },
  "language_info": {
   "codemirror_mode": {
    "name": "ipython",
    "version": 3
   },
   "file_extension": ".py",
   "mimetype": "text/x-python",
   "name": "python",
   "nbconvert_exporter": "python",
   "pygments_lexer": "ipython3",
   "version": "3.13.5"
  }
 },
 "nbformat": 4,
 "nbformat_minor": 5
}
